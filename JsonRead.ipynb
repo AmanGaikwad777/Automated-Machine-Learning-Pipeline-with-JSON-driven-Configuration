{
 "cells": [
  {
   "cell_type": "code",
   "execution_count": 1,
   "id": "2ed105ea-aa19-49b3-9dc9-1e1a66e17cab",
   "metadata": {},
   "outputs": [],
   "source": [
    "# Import necessary libraries\n",
    "import pandas as pd\n",
    "import numpy as np\n",
    "import json\n",
    "import re\n",
    "from striprtf.striprtf import rtf_to_text\n",
    "from sklearn.model_selection import train_test_split, GridSearchCV\n",
    "from sklearn.pipeline import Pipeline\n",
    "from sklearn.compose import ColumnTransformer\n",
    "from sklearn.preprocessing import OneHotEncoder\n",
    "from sklearn.impute import SimpleImputer\n",
    "from sklearn.ensemble import RandomForestRegressor, GradientBoostingRegressor, ExtraTreesRegressor\n",
    "from sklearn.linear_model import LinearRegression, Ridge, Lasso, ElasticNet\n",
    "from sklearn.tree import DecisionTreeRegressor\n",
    "from sklearn.decomposition import PCA\n",
    "from sklearn.feature_selection import SelectFromModel\n",
    "from sklearn.metrics import mean_squared_error, r2_score\n",
    "import warnings\n",
    "warnings.filterwarnings('ignore')"
   ]
  },
  {
   "cell_type": "code",
   "execution_count": 2,
   "id": "42807174-e235-4f83-890c-d62526cd7ae4",
   "metadata": {},
   "outputs": [],
   "source": [
    "# Parse RTF and Extract JSON\n",
    "with open(\"algoparams_from_ui.json.rtf\", \"r\", encoding=\"utf-8\") as f:\n",
    "    rtf_content = f.read()\n",
    "\n",
    "plain_text = rtf_to_text(rtf_content)\n",
    "json_candidates = re.findall(r'\\{.*\\}', plain_text, re.DOTALL)\n",
    "if not json_candidates:\n",
    "    raise ValueError(\"No JSON-like block found in RTF file\")\n",
    "try:\n",
    "    config = json.loads(json_candidates[0])\n",
    "except json.JSONDecodeError as e:\n",
    "    print(\"Failed JSON Text Preview:\", json_candidates[0][:300])\n",
    "    raise ValueError(\"Failed to decode JSON.\") from e"
   ]
  },
  {
   "cell_type": "code",
   "execution_count": 3,
   "id": "3c5037ff-5e33-4026-97eb-3c877e53e0ae",
   "metadata": {},
   "outputs": [],
   "source": [
    "# Extract info from JSON\n",
    "cfg = config['design_state_data']\n",
    "target_col = cfg['target']['target']\n",
    "prediction_type = cfg['target']['prediction_type'].lower()\n",
    "features_cfg = cfg['feature_handling']\n",
    "dataset_name = cfg['session_info']['dataset']"
   ]
  },
  {
   "cell_type": "code",
   "execution_count": 4,
   "id": "d77446ec-c1ff-4aaa-94a9-b513d0ecb167",
   "metadata": {},
   "outputs": [],
   "source": [
    "# Override with correct file\n",
    "dataset_name = \"iris.csv\"\n",
    "\n",
    "df = pd.read_csv(dataset_name)"
   ]
  },
  {
   "cell_type": "code",
   "execution_count": 5,
   "id": "1b167b27-a116-4018-bd49-12ade648bcde",
   "metadata": {},
   "outputs": [],
   "source": [
    "# Feature handling\n",
    "num_features = []\n",
    "cat_features = []\n",
    "impute_values = {}\n",
    "\n",
    "for feat_name, feat_info in features_cfg.items():\n",
    "    if feat_info['is_selected']:\n",
    "        ftype = feat_info['feature_variable_type']\n",
    "        details = feat_info['feature_details']\n",
    "        if ftype == 'numerical':\n",
    "            num_features.append(feat_name)\n",
    "            if details['impute_with'] == 'Average of values':\n",
    "                impute_values[feat_name] = ('mean', None)\n",
    "            elif details['impute_with'] == 'custom':\n",
    "                impute_values[feat_name] = ('constant', details['impute_value'])\n",
    "        elif ftype == 'text':\n",
    "            cat_features.append(feat_name)\n",
    "            impute_values[feat_name] = ('most_frequent', None)"
   ]
  },
  {
   "cell_type": "code",
   "execution_count": 6,
   "id": "c8d8a6ca-ec82-4524-b20c-8e34b99183f9",
   "metadata": {},
   "outputs": [],
   "source": [
    "# Create transformers\n",
    "num_transformer = Pipeline(steps=[\n",
    "    ('imputer', SimpleImputer(strategy='mean'))\n",
    "])\n",
    "cat_transformer = Pipeline(steps=[\n",
    "    ('imputer', SimpleImputer(strategy='most_frequent')),\n",
    "    ('onehot', OneHotEncoder(handle_unknown='ignore'))\n",
    "])\n",
    "preprocessor = ColumnTransformer(transformers=[\n",
    "    ('num', num_transformer, num_features),\n",
    "    ('cat', cat_transformer, cat_features)\n",
    "])"
   ]
  },
  {
   "cell_type": "code",
   "execution_count": 7,
   "id": "b5f4a942-106f-44a3-bc78-0f9cfa346b39",
   "metadata": {},
   "outputs": [],
   "source": [
    "# Feature Reduction\n",
    "reduction_cfg = cfg.get('feature_reduction', {})\n",
    "reduction_method = reduction_cfg.get('feature_reduction_method', 'No Reduction')\n",
    "reduction = None\n",
    "\n",
    "if reduction_method == 'PCA':\n",
    "    reduction = ('reduction', PCA(n_components=int(reduction_cfg.get('num_of_features_to_keep', 4))))\n",
    "elif reduction_method == 'Tree-based':\n",
    "    tree_model = RandomForestRegressor(n_estimators=int(reduction_cfg.get('num_of_trees', 5)))\n",
    "    reduction = ('reduction', SelectFromModel(tree_model, max_features=int(reduction_cfg.get('num_of_features_to_keep', 4)), threshold=-np.inf))"
   ]
  },
  {
   "cell_type": "code",
   "execution_count": 8,
   "id": "1c3a2cac-89fc-4d13-8d7a-48cf58558c9a",
   "metadata": {},
   "outputs": [],
   "source": [
    "# Model Configurations\n",
    "models = []\n",
    "algos = cfg['algorithms']\n",
    "\n",
    "for model_key, model_cfg in algos.items():\n",
    "    if not model_cfg['is_selected'] or prediction_type != 'regression':\n",
    "        continue\n",
    "\n",
    "    if model_key == 'RandomForestRegressor':\n",
    "        model = RandomForestRegressor()\n",
    "        param_grid = {\n",
    "            'model__n_estimators': list(range(model_cfg['min_trees'], model_cfg['max_trees'] + 1, 5)),\n",
    "            'model__max_depth': list(range(model_cfg['min_depth'], model_cfg['max_depth'] + 1, 5)),\n",
    "            'model__min_samples_leaf': list(range(model_cfg['min_samples_per_leaf_min_value'], model_cfg['min_samples_per_leaf_max_value'] + 1, 5))\n",
    "        }\n",
    "    elif model_key == 'GBTRegressor':\n",
    "        model = GradientBoostingRegressor()\n",
    "        param_grid = {\n",
    "            'model__n_estimators': list(range(model_cfg['min_iter'], model_cfg['max_iter'] + 1, 5)),\n",
    "            'model__learning_rate': [model_cfg['min_stepsize'], model_cfg['max_stepsize']],\n",
    "            'model__max_depth': list(range(model_cfg['min_depth'], model_cfg['max_depth'] + 1))\n",
    "        }\n",
    "    elif model_key == 'LinearRegression':\n",
    "        model = LinearRegression()\n",
    "        param_grid = {}\n",
    "    elif model_key == 'RidgeRegression':\n",
    "        model = Ridge()\n",
    "        param_grid = {\n",
    "            'model__alpha': np.linspace(model_cfg['min_regparam'], model_cfg['max_regparam'], 3),\n",
    "            'model__max_iter': list(range(model_cfg['min_iter'], model_cfg['max_iter'] + 1, 10))\n",
    "        }\n",
    "    elif model_key == 'LassoRegression':\n",
    "        model = Lasso()\n",
    "        param_grid = {\n",
    "            'model__alpha': np.linspace(model_cfg['min_regparam'], model_cfg['max_regparam'], 3),\n",
    "            'model__max_iter': list(range(model_cfg['min_iter'], model_cfg['max_iter'] + 1, 10))\n",
    "        }\n",
    "    elif model_key == 'ElasticNetRegression':\n",
    "        model = ElasticNet()\n",
    "        param_grid = {\n",
    "            'model__alpha': np.linspace(model_cfg['min_regparam'], model_cfg['max_regparam'], 3),\n",
    "            'model__l1_ratio': np.linspace(model_cfg['min_elasticnet'], model_cfg['max_elasticnet'], 3),\n",
    "            'model__max_iter': list(range(model_cfg['min_iter'], model_cfg['max_iter'] + 1, 10))\n",
    "        }\n",
    "    elif model_key == 'DecisionTreeRegressor':\n",
    "        model = DecisionTreeRegressor()\n",
    "        param_grid = {\n",
    "            'model__max_depth': list(range(model_cfg['min_depth'], model_cfg['max_depth'] + 1)),\n",
    "            'model__min_samples_leaf': model_cfg['min_samples_per_leaf']\n",
    "        }\n",
    "    elif model_key == 'extra_random_trees':\n",
    "        model = ExtraTreesRegressor()\n",
    "        param_grid = {\n",
    "            'model__n_estimators': model_cfg['num_of_trees'],\n",
    "            'model__max_depth': model_cfg['max_depth'],\n",
    "            'model__min_samples_leaf': model_cfg['min_samples_per_leaf']\n",
    "        }\n",
    "    else:\n",
    "        continue\n",
    "\n",
    "    models.append((model_key, model, param_grid))"
   ]
  },
  {
   "cell_type": "code",
   "execution_count": 9,
   "id": "718869c2-395e-408e-a760-45ba7b38727a",
   "metadata": {},
   "outputs": [],
   "source": [
    "# Train/test split\n",
    "X = df[num_features + cat_features]\n",
    "y = df[target_col]\n",
    "X_train, X_test, y_train, y_test = train_test_split(X, y, test_size=0.2, random_state=42)"
   ]
  },
  {
   "cell_type": "code",
   "execution_count": 10,
   "id": "f5b3990f-3008-4ab6-8487-10318f390384",
   "metadata": {},
   "outputs": [
    {
     "name": "stdout",
     "output_type": "stream",
     "text": [
      "Model: RandomForestRegressor\n",
      "Best Params: {'model__max_depth': 25, 'model__min_samples_leaf': 5, 'model__n_estimators': 10}\n",
      "R2 Score: 0.9956\n",
      "MSE: 0.0028\n"
     ]
    }
   ],
   "source": [
    "# Fit models and evaluate\n",
    "for model_name, model_obj, grid_params in models:\n",
    "    steps = [('preprocessor', preprocessor)]\n",
    "    if reduction:\n",
    "        steps.append(reduction)\n",
    "    steps.append(('model', model_obj))\n",
    "    \n",
    "    pipe = Pipeline(steps=steps)\n",
    "    grid = GridSearchCV(pipe, param_grid=grid_params, cv=5, n_jobs=-1)\n",
    "    grid.fit(X_train, y_train)\n",
    "    \n",
    "    y_pred = grid.predict(X_test)\n",
    "    print(f\"Model: {model_name}\")\n",
    "    print(f\"Best Params: {grid.best_params_}\")\n",
    "    print(f\"R2 Score: {r2_score(y_test, y_pred):.4f}\")\n",
    "    print(f\"MSE: {mean_squared_error(y_test, y_pred):.4f}\")"
   ]
  },
  {
   "cell_type": "code",
   "execution_count": null,
   "id": "7c106289-2bb2-4973-8df5-3c35d3776415",
   "metadata": {},
   "outputs": [],
   "source": []
  },
  {
   "cell_type": "code",
   "execution_count": null,
   "id": "0d45984c-dbe3-4c72-b33e-5bff0fe4f0b6",
   "metadata": {},
   "outputs": [],
   "source": []
  },
  {
   "cell_type": "code",
   "execution_count": null,
   "id": "2ad90380-e289-4b44-b9a2-09ef16073d9f",
   "metadata": {},
   "outputs": [],
   "source": []
  }
 ],
 "metadata": {
  "kernelspec": {
   "display_name": "Python 3 (ipykernel)",
   "language": "python",
   "name": "python3"
  },
  "language_info": {
   "codemirror_mode": {
    "name": "ipython",
    "version": 3
   },
   "file_extension": ".py",
   "mimetype": "text/x-python",
   "name": "python",
   "nbconvert_exporter": "python",
   "pygments_lexer": "ipython3",
   "version": "3.9.21"
  }
 },
 "nbformat": 4,
 "nbformat_minor": 5
}
